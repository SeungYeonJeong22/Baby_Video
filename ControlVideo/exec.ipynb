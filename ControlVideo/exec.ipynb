{
 "cells": [
  {
   "cell_type": "markdown",
   "metadata": {},
   "source": [
    "### 1. Download Weights"
   ]
  },
  {
   "cell_type": "code",
   "execution_count": null,
   "metadata": {},
   "outputs": [],
   "source": [
    "checkpoints\n",
    "├── stable-diffusion-v1-5\n",
    "├── sd-controlnet-canny\n",
    "├── sd-controlnet-depth\n",
    "├── sd-controlnet-openpose\n",
    "├── ...\n",
    "├── flownet.pkl"
   ]
  },
  {
   "cell_type": "markdown",
   "metadata": {},
   "source": [
    "### 2. Requirements"
   ]
  },
  {
   "cell_type": "code",
   "execution_count": null,
   "metadata": {},
   "outputs": [],
   "source": [
    "conda create -n controlvideo python=3.10\n",
    "conda activate controlvideo\n",
    "pip install -r requirements.txt"
   ]
  },
  {
   "cell_type": "markdown",
   "metadata": {},
   "source": [
    "### Inference"
   ]
  },
  {
   "cell_type": "code",
   "execution_count": null,
   "metadata": {},
   "outputs": [],
   "source": [
    "python inference.py \\\n",
    "    --prompt \"A striking mallard floats effortlessly on the sparkling pond.\" \\\n",
    "    --condition \"depth\" \\\n",
    "    --video_path \"data/mallard-water.mp4\" \\\n",
    "    --output_path \"outputs/\" \\\n",
    "    --video_length 15 \\\n",
    "    --smoother_steps 19 20 \\\n",
    "    --width 512 \\\n",
    "    --height 512 \\\n",
    "    --frame_rate 2 \\\n",
    "    --version v10 \\\n",
    "    # --is_long_video"
   ]
  }
 ],
 "metadata": {
  "language_info": {
   "name": "python"
  }
 },
 "nbformat": 4,
 "nbformat_minor": 2
}
